{
  "cells": [
    {
      "cell_type": "code",
      "execution_count": 1,
      "metadata": {
        "id": "wYt7-OXgCqDW"
      },
      "outputs": [
        {
          "name": "stderr",
          "output_type": "stream",
          "text": [
            "/Users/meister/Library/Python/3.9/lib/python/site-packages/urllib3/__init__.py:34: NotOpenSSLWarning: urllib3 v2.0 only supports OpenSSL 1.1.1+, currently the 'ssl' module is compiled with 'LibreSSL 2.8.3'. See: https://github.com/urllib3/urllib3/issues/3020\n",
            "  warnings.warn(\n"
          ]
        }
      ],
      "source": [
        "from ultralytics import YOLO\n",
        "model = YOLO('best.pt')"
      ]
    },
    {
      "cell_type": "code",
      "execution_count": 2,
      "metadata": {},
      "outputs": [],
      "source": [
        "def predict_image(img):\n",
        "    return model.predict(source=img)\n",
        "\n",
        "def plot_prediction(results):\n",
        "    results[0].plot(show=True)"
      ]
    },
    {
      "cell_type": "code",
      "execution_count": 1,
      "metadata": {},
      "outputs": [
        {
          "name": "stderr",
          "output_type": "stream",
          "text": [
            "/Users/meister/Library/Python/3.9/lib/python/site-packages/urllib3/__init__.py:34: NotOpenSSLWarning: urllib3 v2.0 only supports OpenSSL 1.1.1+, currently the 'ssl' module is compiled with 'LibreSSL 2.8.3'. See: https://github.com/urllib3/urllib3/issues/3020\n",
            "  warnings.warn(\n",
            "2024-10-14 17:05:08.785 Python[69553:2115387] +[IMKClient subclass]: chose IMKClient_Legacy\n",
            "2024-10-14 17:05:08.785 Python[69553:2115387] +[IMKInputSession subclass]: chose IMKInputSession_Legacy\n"
          ]
        },
        {
          "ename": "",
          "evalue": "",
          "output_type": "error",
          "traceback": [
            "\u001b[1;31mThe Kernel crashed while executing code in the current cell or a previous cell. \n",
            "\u001b[1;31mPlease review the code in the cell(s) to identify a possible cause of the failure. \n",
            "\u001b[1;31mClick <a href='https://aka.ms/vscodeJupyterKernelCrash'>here</a> for more info. \n",
            "\u001b[1;31mView Jupyter <a href='command:jupyter.viewOutput'>log</a> for further details."
          ]
        }
      ],
      "source": [
        "import sys\n",
        "from PyQt5.QtWidgets import QApplication, QWidget, QVBoxLayout, QPushButton, QLabel, QFileDialog\n",
        "from PyQt5.QtGui import QPixmap, QImage\n",
        "from PyQt5.QtCore import Qt\n",
        "from ultralytics import YOLO\n",
        "import cv2\n",
        "\n",
        "class YOLOv8App(QWidget):\n",
        "    def __init__(self):\n",
        "        super().__init__()\n",
        "        self.initUI()\n",
        "        self.model = YOLO('best.pt')\n",
        "\n",
        "    def initUI(self):\n",
        "        self.setWindowTitle('YOLOv8 Detector')\n",
        "        self.setGeometry(100, 100, 800, 600)\n",
        "        \n",
        "        layout = QVBoxLayout()\n",
        "        \n",
        "        self.count = 'Seleccione una imagen para comenzar'\n",
        "\n",
        "        self.count_label = QLabel(self.count, self)\n",
        "        self.count_label.setMaximumHeight(50)\n",
        "        self.count_label.setAlignment(Qt.AlignCenter)\n",
        "        layout.addWidget(self.count_label)\n",
        "\n",
        "        self.label = QLabel(self)\n",
        "        self.label.setAlignment(Qt.AlignCenter)\n",
        "        layout.addWidget(self.label)\n",
        "\n",
        "        self.btn = QPushButton('Cargar Imagen', self)\n",
        "        self.btn.clicked.connect(self.loadImage)\n",
        "        layout.addWidget(self.btn)\n",
        "\n",
        "        self.setLayout(layout)\n",
        "\n",
        "        with open('style.css', 'r') as f:\n",
        "            self.setStyleSheet(f.read())\n",
        "\n",
        "    def loadImage(self):\n",
        "        options = QFileDialog.Options()\n",
        "        fileName, _ = QFileDialog.getOpenFileName(self, \"Seleccionar Imagen\", \"\", \"Images (*.png *.xpm *.jpg)\", options=options)\n",
        "        if fileName:\n",
        "            self.predictImage(fileName)\n",
        "\n",
        "    def predictImage(self, filePath):\n",
        "        img = cv2.imread(filePath)\n",
        "        results = self.model.predict(source=img)\n",
        "        n = len(results[0].boxes)\n",
        "        annotated_img = results[0].plot(show=False)\n",
        "        annotated_img = cv2.cvtColor(annotated_img, cv2.COLOR_BGR2RGB)\n",
        "        height, width, _ = annotated_img.shape\n",
        "        bytesPerLine = 3 * width\n",
        "        qImg = QPixmap(QImage(annotated_img.data, width, height, bytesPerLine, QImage.Format_RGB888))\n",
        "        self.label.setPixmap(qImg)\n",
        "        self.count_label.setText(f'Se detectan {n} cajas')\n",
        "\n",
        "def run_app():\n",
        "    app = QApplication(sys.argv)\n",
        "    ex = YOLOv8App()\n",
        "    ex.show()\n",
        "    app.exec_()\n",
        "\n",
        "if __name__ == '__main__':\n",
        "    run_app()"
      ]
    }
  ],
  "metadata": {
    "accelerator": "GPU",
    "colab": {
      "gpuType": "T4",
      "provenance": []
    },
    "kernelspec": {
      "display_name": "Python 3",
      "name": "python3"
    },
    "language_info": {
      "codemirror_mode": {
        "name": "ipython",
        "version": 3
      },
      "file_extension": ".py",
      "mimetype": "text/x-python",
      "name": "python",
      "nbconvert_exporter": "python",
      "pygments_lexer": "ipython3",
      "version": "3.9.6"
    }
  },
  "nbformat": 4,
  "nbformat_minor": 0
}
