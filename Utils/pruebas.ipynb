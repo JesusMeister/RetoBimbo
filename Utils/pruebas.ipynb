{
 "cells": [
  {
   "cell_type": "code",
   "execution_count": 3,
   "metadata": {},
   "outputs": [
    {
     "name": "stdout",
     "output_type": "stream",
     "text": [
      "Status Code: 200\n",
      "Response JSON: {'answer': 'Hola, gracias por preguntar. Para responder a tu pregunta, según los datos que tenemos disponibles, el rack con más cantidad es... C.', 'question': 'Que Rack tiene más cantidad?'}\n"
     ]
    }
   ],
   "source": [
    "import requests\n",
    "\n",
    "url = 'http://127.0.0.1:8080/ask_question'\n",
    "data = {\n",
    "    'question' : 'Que Rack tiene más cantidad?'\n",
    "}\n",
    "\n",
    "response = requests.post(url, json=data)\n",
    "\n",
    "print('Status Code:', response.status_code)\n",
    "print('Response JSON:', response.json())"
   ]
  },
  {
   "cell_type": "code",
   "execution_count": 27,
   "metadata": {},
   "outputs": [
    {
     "name": "stdout",
     "output_type": "stream",
     "text": [
      "Status Code: 200\n",
      "Response JSON: [{'Columna': 36, 'Index': 0, 'Rack': 'U'}, {'Columna': 39, 'Index': 1, 'Rack': 'U'}, {'Columna': 52, 'Index': 2, 'Rack': 'V'}, {'Columna': 50, 'Index': 3, 'Rack': 'V'}, {'Columna': 48, 'Index': 4, 'Rack': 'U'}, {'Columna': 46, 'Index': 5, 'Rack': 'V'}, {'Columna': 40, 'Index': 6, 'Rack': 'W'}, {'Columna': 47, 'Index': 7, 'Rack': 'W'}, {'Columna': 48, 'Index': 8, 'Rack': 'W'}, {'Columna': 49, 'Index': 9, 'Rack': 'X'}, {'Columna': 51, 'Index': 10, 'Rack': 'X'}, {'Columna': 52, 'Index': 11, 'Rack': 'X'}, {'Columna': 51, 'Index': 12, 'Rack': 'Y'}, {'Columna': 48, 'Index': 13, 'Rack': 'Y'}, {'Columna': 44, 'Index': 14, 'Rack': 'Z'}, {'Columna': 43, 'Index': 15, 'Rack': 'X'}, {'Columna': 40, 'Index': 16, 'Rack': 'X'}, {'Columna': 32, 'Index': 17, 'Rack': 'X'}, {'Columna': 33, 'Index': 18, 'Rack': 'X'}, {'Columna': 34, 'Index': 19, 'Rack': 'Y'}, {'Columna': 28, 'Index': 20, 'Rack': 'Y'}, {'Columna': 25, 'Index': 21, 'Rack': 'Y'}, {'Columna': 20, 'Index': 22, 'Rack': 'Y'}, {'Columna': 22, 'Index': 23, 'Rack': 'Y'}, {'Columna': 22, 'Index': 24, 'Rack': 'Z'}, {'Columna': 19, 'Index': 25, 'Rack': 'Z'}, {'Columna': 16, 'Index': 26, 'Rack': 'Z'}, {'Columna': 9, 'Index': 27, 'Rack': 'Z'}, {'Columna': 12, 'Index': 28, 'Rack': 'Y'}, {'Columna': 9, 'Index': 29, 'Rack': 'Y'}, {'Columna': 7, 'Index': 30, 'Rack': 'Y'}, {'Columna': 2, 'Index': 31, 'Rack': 'Z'}, {'Columna': 1, 'Index': 32, 'Rack': 'Z'}, {'Columna': 4, 'Index': 33, 'Rack': 'Z'}, {'Columna': 3, 'Index': 34, 'Rack': 'Z'}, {'Columna': 8, 'Index': 35, 'Rack': 'X'}, {'Columna': 3, 'Index': 36, 'Rack': 'X'}, {'Columna': 1, 'Index': 37, 'Rack': 'W'}, {'Columna': 1, 'Index': 38, 'Rack': 'T'}, {'Columna': 2, 'Index': 39, 'Rack': 'S'}, {'Columna': 6, 'Index': 40, 'Rack': 'S'}, {'Columna': 8, 'Index': 41, 'Rack': 'T'}, {'Columna': 6, 'Index': 42, 'Rack': 'T'}, {'Columna': 2, 'Index': 43, 'Rack': 'T'}, {'Columna': 3, 'Index': 44, 'Rack': 'U'}, {'Columna': 7, 'Index': 45, 'Rack': 'U'}, {'Columna': 12, 'Index': 46, 'Rack': 'U'}, {'Columna': 16, 'Index': 47, 'Rack': 'U'}, {'Columna': 20, 'Index': 48, 'Rack': 'V'}, {'Columna': 25, 'Index': 49, 'Rack': 'V'}, {'Columna': 30, 'Index': 50, 'Rack': 'V'}, {'Columna': 33, 'Index': 51, 'Rack': 'V'}, {'Columna': 32, 'Index': 52, 'Rack': 'U'}, {'Columna': 26, 'Index': 53, 'Rack': 'T'}, {'Columna': 24, 'Index': 54, 'Rack': 'T'}, {'Columna': 26, 'Index': 55, 'Rack': 'U'}, {'Columna': 33, 'Index': 56, 'Rack': 'W'}, {'Columna': 29, 'Index': 57, 'Rack': 'W'}, {'Columna': 24, 'Index': 58, 'Rack': 'W'}, {'Columna': 27, 'Index': 59, 'Rack': 'X'}, {'Columna': 20, 'Index': 60, 'Rack': 'X'}, {'Columna': 19, 'Index': 61, 'Rack': 'W'}, {'Columna': 14, 'Index': 62, 'Rack': 'W'}, {'Columna': 16, 'Index': 63, 'Rack': 'W'}, {'Columna': 11, 'Index': 64, 'Rack': 'V'}]\n"
     ]
    }
   ],
   "source": [
    "url = 'http://127.0.0.1:8080//get_best_route'\n",
    "data = {\n",
    "    'n' : 1\n",
    "}\n",
    "\n",
    "response = requests.post(url, json=data)\n",
    "\n",
    "print('Status Code:', response.status_code)\n",
    "print('Response JSON:', response.json())"
   ]
  },
  {
   "cell_type": "code",
   "execution_count": 33,
   "metadata": {},
   "outputs": [
    {
     "name": "stdout",
     "output_type": "stream",
     "text": [
      "{'isEqual': True}\n"
     ]
    }
   ],
   "source": [
    "url = 'http://127.0.0.1:8080/check_image'\n",
    "image_path = '../Utils/Fotos/IMG-20241105-WA0096.jpg'\n",
    "text = 'F061801'\n",
    "\n",
    "with open(image_path, 'rb') as image_file:\n",
    "\n",
    "    files = {\n",
    "        'text': (None, text),\n",
    "        'image': (image_path, image_file, 'image')\n",
    "    }\n",
    "    \n",
    "    response = requests.post(url, files=files)\n",
    "\n",
    "print(response.json())"
   ]
  }
 ],
 "metadata": {
  "kernelspec": {
   "display_name": "ProyectoBimbo",
   "language": "python",
   "name": "python3"
  },
  "language_info": {
   "codemirror_mode": {
    "name": "ipython",
    "version": 3
   },
   "file_extension": ".py",
   "mimetype": "text/x-python",
   "name": "python",
   "nbconvert_exporter": "python",
   "pygments_lexer": "ipython3",
   "version": "3.12.7"
  }
 },
 "nbformat": 4,
 "nbformat_minor": 2
}
